{
  "nbformat": 4,
  "nbformat_minor": 0,
  "metadata": {
    "colab": {
      "provenance": [],
      "include_colab_link": true
    },
    "kernelspec": {
      "name": "python3",
      "display_name": "Python 3"
    },
    "language_info": {
      "name": "python"
    }
  },
  "cells": [
    {
      "cell_type": "markdown",
      "metadata": {
        "id": "view-in-github",
        "colab_type": "text"
      },
      "source": [
        "<a href=\"https://colab.research.google.com/github/eclipse2ant/gotokeishi/blob/JSX-is-symtax-sugar/Untitled3.ipynb\" target=\"_parent\"><img src=\"https://colab.research.google.com/assets/colab-badge.svg\" alt=\"Open In Colab\"/></a>"
      ]
    },
    {
      "cell_type": "markdown",
      "source": [
        "# Reduxについて\n",
        "この章からはReduxについてまとめたい。\n",
        "<br>Reduxとは「Action」と呼ばれるイベントを使用して、アプリケーションのState（状態）を管理し、更新するためのフレームワークである。 アプリケーションの多くの部分で必要なStateを、グローバルなStateとして一元管理するのに役立つ。Actionとはユーザーが何をしたいかという情報を持つオブジェクトのこと。ReduXはReact、jQuery、Angular、Vueといったライブラリと併用できる。\n",
        "\n",
        "## <br>Reduxの原則について\n",
        "### <br>原則①　Single source of truth\n",
        "<br>アプリケーション全体の状態(State)はツリーの形で１つのオブジェクトで作られ、１つのストアに保存される。つまり、Storeを複数作成することはできない。またこの原則により、Stateが保存しやすいので、ユニバーサルアプリケーションがつくりやすい、Stateが1つであるため、デバッグしやすい、開発しやすいという特徴がある。\n",
        "### <br>原則②　State Is read Only\n",
        "<br>この原則は、状態を変更する手段は変更内容を持ったActionオブジェクトを実行するのみであることを示している。つまりビューやコールバックが状態を直接変更させることはできない。またActionはオブジェクトなので、保存可能であり、テストしやすいということも示している。\n",
        "### <br>原則③　Mutations are written as pure functions\n",
        "<br>和訳すると、「変更はすべて純粋関数で行われる」となる。粋関数とは引数にどのような値を与えても必ず同じ値を戻り値として返すということ。これを「Reducerは副作用がない」という呼び方をする。ReduxのReducerは純粋関数の思想が取り入れられているが、これには関数の再利用性や単体テストがしやすいというメリットがある。\n",
        "<br>\n",
        "<br>以上の3原則により、データの流れが一方向になり複雑にならず、プログラムの流れが追いやすくなる。\n",
        "\n",
        "## <br>データフロー\n",
        "<br>以下の図はReduxの概念を図式化したものである。この図を基に、今回はREduxの主要概念と用語についてまとめたい。\n",
        "<br>![Redux概念図](https://drive.google.com/uc?id=1gO27U05MSsDIudIAIME0LkR5zQslAIia)\n",
        "\n",
        "### <br>①Actionを生成\n",
        "<br>Actionとは、先述のとおり\n",
        "ユーザーが何をしたいかという情報を持つオブジェクト、つまりアプリケーション上でユーザーが行った「ボタンを押す動作」などと考えてよい。まずは、User Input　→　Viwe(compornent)　→　Actioncreater という流れでViewからActioncreaterにrequestが送られる。つまり、Compornent上からActionの作成依頼をActioncreaterに飛ばし、ActioncreaterからView(Compornent)にActionを返すといった流れだ。\n",
        "<br>![action](https://drive.google.com/uc?id=10QrA4_EvqpuyspGudvFztjQ5emqPB91b)\n",
        "\n",
        "###<br>②Actionをdispatchする\n",
        "<br>続いて、先ほど作成したActionをStoreにdispatch(送信)する。Storeとは、Stateの状態を保持している場所のことで、dispatchすることでActionをStoreに送ることができる。Redux StoreのDispatchと呼ばれるメソッドは、状態を更新する唯一の方法で、Actionオブジェクトを引数にとる。Storeにイベントが発生したことを知らせる役割を担っている。\n",
        "<br>![dispatch](https://drive.google.com/uc?id=1BQlZjqpNcTr6dBtTzIne17TfR1ZlaN0S)\n",
        "\n",
        "###<br>ReducerがStateを更新\n",
        "<br>Reducerとは、Actionを元にStateを更新するメソッドのこと。DispatchされたActionと現在保持しているStateが、Store内のReducerに渡され、新しいStateを作成する。つまりDispatchによりStoreにイベントが発生したことが知らされると、Reducerは現状を保持していたStateとActionを受け取り、新たな状態を作り出す。この状態を監視するためのシステムがReduxである。\n",
        "<br>\n",
        "<br>最後に、Reducerによって新たに作成されたStateをもとに、UIが更新される。\n",
        "<br>\n",
        "<br>\n",
        "以上がReduxのデータフローの概要である。まとめると、\n",
        "<br>**①ActionCreatorsによってActionを生成する**\n",
        "<br>**②Actionをdispatchする**\n",
        "<br>**③ReducerによってStore内のStateを更新する**\n",
        "<br>**④ReactとReduxの連携しStore内のStateをComponentで参照する **\n",
        "<br>となる。\n",
        "\n",
        "\n",
        "\n",
        "\n"
      ],
      "metadata": {
        "id": "CzEpX_OYPSLp"
      }
    },
    {
      "cell_type": "markdown",
      "source": [
        "# **Vite について**\n",
        "以下、りあクト! TypeScript で始めるつらくない React 開発 第 4 版【1言語・環境編】の **1-2.Viteでプロジェクトを作成する**　を参照し、Viteについてまとめたい。\n",
        "## <br>Viteの必要性\n",
        "<br>　Reactはフルスタックなフレームワークではなく、UIを構築するための最小限のライブラリである。\n",
        "<br>\n",
        "<br>（※「フルスタックなフレームワーク」は、ソフトウェア開発のための包括的なフレームワークで、通常、フロントエンド（クライアントサイド）とバックエンド（サーバサイド）の両方の開発に関するツールや機能を提供する。これにより、開発者はアプリケーションの全体的な構築を同じフレームワーク内で行うことができる。）\n",
        "<br>\n",
        "<br>　そのため、新しいReactプロジェクトを開始するための、例えばRuby on Railsにおける「rails new」のような単一のコマンドは存在しない。\n",
        "<br>　しかし、Reactで中規模以上のアプリを開発する場合、いくつかのステップが必要になる。これには、最新のJavaScriptやJSXを、古いブラウザでも実行可能なコードに変換するためのコンパイラ、JavaScriptやCSSのファイルを結合し最小化するためのバンドラなどが含まれる。これらのツールやライブラリを組み合わせて使うためには、それらが協力して動作するように複雑な設定が必要である。\n",
        "<br>\n",
        "<br>(※バンドラ・・・ウェブ開発において異なるソースコードやリソースを一つにまとめ、最適化するツールのことを指す。これにより、ウェブアプリケーションのパフォーマンスを向上させることができる。)\n",
        "<br>(※コンパイラ・・・プログラムを一種の言語から別の言語に変換するソフトウェアツール。通常、高水準言語（人が理解しやすい形式）で書かれたソースコードを、低水準言語や機械語に変換する。)\n",
        "<br>\n",
        "<br>　まとめると、Reactは最初からすべてが揃ったフレームワークではないため、アプリケーションを構築するにはいくつかのツールや設定が必要になるということだ。\n",
        "<br>　アプリ開発において前述した設定は大変である。その為、React のアプリケーションプロジェクトを作成・運用するためのツールが公式やサードパーティから提供されてる。その中の一つが Viteである。\n",
        "<br>\n",
        "## <br>Viteによるプロジェクト作成\n",
        "### <br>①プロジェクトを作る\n",
        "<br>\n",
        "**$ yarn create vite hello-world --template=react-ts**\n",
        "<br>\n",
        "<br>このコマンドは、yarn create を使用して Vite プロジェクトを作成するためのものである。以下に、このコマンドの各部分を詳しく説明する。\n",
        "\n",
        "<br>yarn create：yarn createは、新しいプロジェクトを作成するためのYarnのコマンドである。\n",
        "<br>vite：Viteと呼ばれるプロジェクトを生成するためのジェネレータである。\n",
        "<br>hello-world：hello-worldは、プロジェクトの名前やディレクトリの指定である。この部分を変更することで、作成されるプロジェクトの名前や保存先のディレクトリを指定できる。\n",
        "<br>--template=react-ts：--template=react-tsは、Viteプロジェクトのテンプレートを指定している。この場合、ReactとTypeScriptを使用するためのテンプレートが指定されている。ReactはJavaScriptライブラリで、UI構築のために使用される。TypeScriptはJavaScriptに静的型付けを追加するプログラミング言語である。\n",
        "### <br>②ローカル環境に開発サーバを起動する\n",
        "<br>先ほどのコマンドを実行し、プロジェクトファイルを作成する。\n",
        "<br>次に、コンソールで指定されたとおりにプロジェクトのディレクトリに移動して、 yarn を実行する。\n",
        "<br>上記について、yarn は略式であり、正確には yarn install を実行している。\n",
        "<br>このコマンドはpackage.json に記述されている依存パッケージを node_modules/ 配下にインストールし、さらにインストールされたパッケージのバージョン情報を、その依存関係も含めて yarn.lock というファイルに出力するものである。\n",
        "<br>node_modules/ の中には複数のディレクトリが作成されており、そこには react/ や react-dom/ 等が存在する。アプリケーションに必要な npm パッケージの実体が置かれるが、それぞれ相互に特定のバージョンに依存してるため、バージョンを変更しただけでアプリケーションが動かなくなることがある。\n",
        "<br>その対策として、いつ誰がインストールしてもすべてのパッケージで完全に同じバージョンがインストールされるよう、インストールしたパッケージの依存情報を保存しておくためのファイルが yarn.lock である。\n",
        "<br>その為 Git のリポジトリに yarn.lock は必ず入れておくようにする。\n",
        "<br>\n",
        "<br>その後、 yarn dev を実行する。\n",
        "<br>このコマンドを実行することで、Viteプロジェクトが開発モードで実行され、実際の開発作業が始まる。\n",
        "<br>![yarn](https://drive.google.com/uc?id=1_9TWwfVyrw-lKznBf31RjvQx2asZ4ZdR)\n",
        "<br>(↑実行後)\n",
        "<br>\n",
        "<br>これでローカル環境に開発サーバが起動した。表示されてる URL の http://localhost:5173/ をブラウザで開くと、以下のような画面が表示される。\n",
        "<br>![画面1](https://drive.google.com/uc?id=1MYpE7MZvySzodtgMm8TCuASzmDwkCmzZ)\n",
        "<br>③\n"
      ],
      "metadata": {
        "id": "RKASxiw3SOHQ"
      }
    },
    {
      "cell_type": "markdown",
      "source": [
        "##JSX について\n",
        "以下、りあクト! TypeScript で始めるつらくない React 開発 第 4 版【2React基礎編】の 5.JSXでUIを表現する　を参照し、JSXについてまとめたい。\n",
        "<br>\n",
        "<br>\n",
        "従来、開発者はマークアップとロジックを別々のファイルに分け、構造にはHTML、スタイリングにはCSSを使用し、インタラクションやデータ操作にはJavaScriptを記述してきた。JSX（JavaScript XML）は、JavaScriptの構文拡張で、JavaScriptファイル内にHTMLのようなコードを記述できるようにするもの。Meta（旧Facebook）によって開発された。JSXの構文はHTMLに似ており、開閉タグ、属性、入れ子要素などがある。\n",
        "<br>JSXは、ブラウザで実行される前に、通常のJavaScriptに変換される。この変換は、トランスパイラと呼ばれるツールを使って行われる。JSXの最も一般的なトランスパイラはBabelである。Babelは、JSXのコードを一連の関数呼び出しに変換する。これらの関数呼び出しは、JSXで書かれたHTMLのようなコードと同等になる。そして、ブラウザは、結果として得られたJavaScriptコードを実行することができる。\n",
        "<br>例えば次のJSXコードを見る。\n",
        "<br>`const element = <h1>Hello, world!</h1>;`\n",
        "<br>これは次のようなJavaScriptコードに変換される。\n",
        "<br>`const element = React.createElement(\"h1\", null, \"Hello, world!\");`\n",
        "<br>この変換により、開発者はJavaScriptの性能と柔軟性を生かしながら、慣れ親しんだ読みやすい構文でコードを書くことができるのだ。\n",
        "<br>\n",
        "<br>"
      ],
      "metadata": {
        "id": "EfYjlZYgYSCN"
      }
    },
    {
      "cell_type": "markdown",
      "source": [
        "<font color=\"red\">JSX は syntax sugar という記述があるはずだが　そこに触れられていない。構文的糖衣　だから　JSXは、JavaScript　である。\n",
        "\n",
        "\n",
        "\n",
        "\n",
        "\n",
        "\n",
        "</font>"
      ],
      "metadata": {
        "id": "uxwCQiWQYiS9"
      }
    },
    {
      "cell_type": "markdown",
      "source": [
        "##JSXとReact\n",
        "<br>JSXはReactに不可欠な要素であり、これによりコンポーネントのマークアップとロジックを1つのファイルに記述することができるようになる。\n",
        "<br>サーバサイド Web アプリケーションフレームワークは、そのほとんどがアーキテクチャに MVC のパターンを採用しているが、Reactではロジックとデザインを混在させる。MVCとはアプリケーションを Model、View、Controller の 3 つの要素に分割して構築する手法である。Webアプリケーションにおいては、ひとつの URLリクエストに対してそれを受けたControllerが起点となりModelを操作して必要なデータの取得・加工を行って、最後にViewでそのデータをテンプレートへ埋め込んでページを出力するというフローになる。\n",
        "<br>ソフトウェア工学において、アーキテクチャやデザインパターンというものは関心の分離を行うためにあるものである　。ではMVCにおいてはどんな関心によって要素を区分しているかと考えれば、アプリケーション全体で技術的な役割によってその3つに区分している。この技術的な役割によって関心を分離するというのは一時代を築いた考え方だが、フロントエンド開発ではその歴史の中で、MVCパターンはうまく機能しないという見方が開発者の間では主流である。\n",
        "<br>Reactにおいては、関心の分離の単位がMVCのように技術的な役割ではない。アプリケーションにおけるひとつひとつの機能こそがその単位になっている。それぞれの機能単位で分割された独立性の高いパーツを組み合わせることでアプリケーションを構築しようというのがReactの開発思想であり、そのパーツに相当する概念こそがコンポーネントというわけである。独立した機能単位のパーツとして分割するためには、そのパーツの中にUIデザインとロジックを閉じ込める必要があるのだ。\n",
        "<br>"
      ],
      "metadata": {
        "id": "j5UqCW2_Z6ue"
      }
    },
    {
      "cell_type": "markdown",
      "source": [
        "<font color=\"red\">\n",
        "「ソフトウェア工学において、アーキテクチャやデザインパターンというものは関心の分離を行うためにあるものである 」   は　そう書いてあるけど、必ずしもそれだけではない。\n",
        "</font>"
      ],
      "metadata": {
        "id": "hGFJJKOna4et"
      }
    },
    {
      "cell_type": "markdown",
      "source": [
        "<br>以下は、ReactコンポーネントのJSXコードの簡単な例\n",
        "![jsx1](https://drive.google.com/uc?id=1W0Z4a0XCBSHrr2U7HMvyA53sHrfW5g9c)\n",
        "\n",
        "<br>この例では、Greetという名前の関数コンポーネントがあり、h1要素を挨拶のメッセージとしてレンダリングしている。Reactコンパイラは、このコードをブラウザで実行できる最適化されたJavaScriptコードに変換し、コンポーネントを画面上に表示できるようにする。\n",
        "<br>"
      ],
      "metadata": {
        "id": "CgDwxeTsbkZU"
      }
    },
    {
      "cell_type": "markdown",
      "source": [
        "\n",
        "\n",
        "\n",
        "<br>以下は、ReactコンパイラがGreetコンポーネントを変換した結果。\n",
        "![js1](https://drive.google.com/uc?id=1HR-SgQUPO00zfZ3g0Likio9Q5B6xhnVR)\n",
        "\n",
        "<br>このコードでは、JSXコードは、元のJSXコードと同じ構造とコンテンツを作成するReact.createElement に変換されている。ReactがJSXコードをコンパイルする際に、上記のような変換が舞台裏で起こっている。これにより、ブラウザによる実行が可能になる。ただし、変換されたコードは、元のJSXコードよりも可読性が低くなる可能性がある。\n",
        "<br>Reactバージョン17では、新しいJSX変換機能が導入され、Reactパッケージの新しいエントリポイントから特別な関数を自動的にインポートすることで、ファイルの先頭でReactをインポートしなくてもJSXを使用できるようになった。\n",
        "\n",
        "##JSXでJavaScriptの式を使う\n",
        "<br>JSXでは、JavaScriptの式をマークアップ内に直接埋め込んで、コンテンツを動的に生成することができる。これにより、JavaScriptコードを使用して、JSXコンポーネント内で値の計算、操作、および条件付きでコンテンツのレンダリングを行うことができる。\n",
        "<br>\n",
        "<br>以下の例では、JSX内で2つのJavaScriptの式を使用している。\n",
        "![jsx例1](https://drive.google.com/uc?id=15lp3_zQY3i1GZ30AJEshEzgAaFtf0G6J)\n",
        "<br>\n",
        "<br>この例では、{name}、{age}、{age + 1}、{age >= 18 && <p>You are an adult.</p>}のような JavaScriptの式を使用して、nameとageの変数の値に基づきコンテンツを動的にレンダリングしている。\n",
        "<br>\n",
        "<br>\n",
        "##JSXでCSSを使う\n",
        "<br>CSSは、インラインスタイル、個別のCSSファイル、CSS in JSライブラリなど、さまざまな方法でJSXコンポーネントに適用することができる。インラインスタイルは、JavaScriptオブジェクトを使用してJSXマークアップ内で直接定義され、外部CSSファイルまたはCSS in JSライブラリでは、コンポーネントの外部およびモジュールに基づいたスタイル設定が可能になる。\n",
        "<br>\n",
        "<br>以下の例では、JavaScriptオブジェクトを使用して定義されたインラインスタイルを、JSXのstyle属性を使用して要素に適用している。\n",
        "![jsx例2](https://drive.google.com/uc?id=1uJtwe4SqczqI1xYMcZnAITNZu1oWyPGU)\n",
        "<br>\n",
        "<br>この例では、backgroundColor、color、padding などのCSSプロパティをstylesオブジェクトのキーと値のペアとして設定し、その値をCSS値を表す文字列としている。\n",
        "<br>\n",
        "<br>\n",
        "##重要なJSXのルール\n",
        "###1.常に1つのルート要素を返す\n",
        "<br>JSXでは、常に1つのルート要素を返さなければならない。つまり、JSXのコードはすべて、一番外側にある1つの要素に収めなければいけない。例えば、以下は有効なJSX。\n",
        "![jsx例3](https://drive.google.com/uc?id=11OADQMwbWQXZ5r9Owy-Yam04MUASbtzN)\n",
        "<br>\n",
        "<br>しかし、以下は1つの要素ではなく2つの要素を返しているため、有効ではない。\n",
        "![jsx例4](https://drive.google.com/uc?id=10dwiXuvTPt4hEmDC7mQh07y1Xd4hS5vm)\n",
        "###2. classの代わりにclassNameを使う\n",
        "<br>HTMLでは、要素のCSSクラスを指定するために、class属性を使用する。しかし、JSXでは、代わりにclassName属性を使用する必要がある。例えば、以下のようになる。\n",
        "![jsx例5](https://drive.google.com/uc?id=1QzdheoIBP_3w4YdZz2eJ5GjWwDLgSAKp)\n",
        "<br>\n",
        "<br>classの代わりにclassNameを使用することが重要。これで命名の衝突を避けることができる。\n",
        "###3. JavaScriptの式には中括弧を使用する\n",
        "<br>JSXコードの中にJavaScriptの式を含める必要がある場合、中括弧{}で囲む必要がある。これは、動的なデータの表示から、コンポーネントの条件付きレンダリングまで、あらゆる用途に使用できる。以下はその例。\n",
        "![jsx例6](https://drive.google.com/uc?id=1ODn5h8VSjC6nQkRMA288ZtxtzbMDGHvD)\n",
        "<br>\n",
        "<br>中括弧の中では、次のような計算を実行することができる。\n",
        "![jsx例7](https://drive.google.com/uc?id=131ClTrMEZR7qun9vWUT5nlEXgdfqgeT8)\n",
        "###4. ほとんどのものにcamelCaseを使用する\n",
        "<br>JSXでは、属性、イベントハンドラ、変数名など、ほとんどのものにcamelCaseを使用する。この規則は、JavaScriptの命名規則と一致しており、可読性を維持するのに役立つ。\n",
        "<br>例えば、onclickの代わりにonClickを、classの代わりにclassNameを使用する。\n",
        "![jsx例8](https://drive.google.com/uc?id=1Ph6wwa4BKB40UtHI5XxfuAXoFuow26yt)\n",
        "###5.タグを常に閉じる\n",
        "<br>JSXでは、たとえタグに中身がなくても、常に閉じる必要がある。例えば、以下のようになる。\n",
        "![jsx例9](https://drive.google.com/uc?id=18avmtgkEol4Ritb_Pc8kRfjGbjh2pPOK)\n",
        "###6. 空の要素はタグ単体で完結\n",
        "<br>本質的に中身を持たない要素であれば、開始/終了タグの代わりにタグ単体で完結することができる。例えば、以下のようになる。\n",
        "![jsx例10](https://drive.google.com/uc?id=1y9aPB4gcaXKTehQ0abQ0VmmJ9FeGVFH4)\n",
        "\n",
        "\n",
        "\n",
        "\n",
        "\n"
      ],
      "metadata": {
        "id": "6xqbuTyr7Uvi"
      }
    }
  ]
}