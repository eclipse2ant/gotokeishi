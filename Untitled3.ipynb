{
  "nbformat": 4,
  "nbformat_minor": 0,
  "metadata": {
    "colab": {
      "provenance": [],
      "include_colab_link": true
    },
    "kernelspec": {
      "name": "python3",
      "display_name": "Python 3"
    },
    "language_info": {
      "name": "python"
    }
  },
  "cells": [
    {
      "cell_type": "markdown",
      "metadata": {
        "id": "view-in-github",
        "colab_type": "text"
      },
      "source": [
        "<a href=\"https://colab.research.google.com/github/eclipse2ant/gotokeishi/blob/JSX-is-symtax-sugar/Untitled3.ipynb\" target=\"_parent\"><img src=\"https://colab.research.google.com/assets/colab-badge.svg\" alt=\"Open In Colab\"/></a>"
      ]
    },
    {
      "cell_type": "markdown",
      "source": [
        "##JSX について\n",
        "以下、りあクト! TypeScript で始めるつらくない React 開発 第 4 版【2React基礎編】の 5.JSXでUIを表現する　を参照し、JSXについてまとめたい。\n",
        "<br>\n",
        "<br>\n",
        "従来、開発者はマークアップとロジックを別々のファイルに分け、構造にはHTML、スタイリングにはCSSを使用し、インタラクションやデータ操作にはJavaScriptを記述してきた。JSX（JavaScript XML）は、JavaScriptの構文拡張で、JavaScriptファイル内にHTMLのようなコードを記述できるようにするもの。Meta（旧Facebook）によって開発された。JSXの構文はHTMLに似ており、開閉タグ、属性、入れ子要素などがある。\n",
        "<br>JSXは、ブラウザで実行される前に、通常のJavaScriptに変換される。この変換は、トランスパイラと呼ばれるツールを使って行われる。JSXの最も一般的なトランスパイラはBabelである。Babelは、JSXのコードを一連の関数呼び出しに変換する。これらの関数呼び出しは、JSXで書かれたHTMLのようなコードと同等になる。そして、ブラウザは、結果として得られたJavaScriptコードを実行することができる。\n",
        "<br>例えば次のJSXコードを見る。\n",
        "<br>`const element = <h1>Hello, world!</h1>;`\n",
        "<br>これは次のようなJavaScriptコードに変換される。\n",
        "<br>`const element = React.createElement(\"h1\", null, \"Hello, world!\");`\n",
        "<br>この変換により、開発者はJavaScriptの性能と柔軟性を生かしながら、慣れ親しんだ読みやすい構文でコードを書くことができるのだ。\n",
        "<br>\n",
        "<br>"
      ],
      "metadata": {
        "id": "EfYjlZYgYSCN"
      }
    },
    {
      "cell_type": "markdown",
      "source": [
        "<font color=\"red\">JSX は syntax sugar という記述があるはずだが　そこに触れられていない。構文的糖衣　だから　JSXは、JavaScript　である。\n",
        "\n",
        "\n",
        "\n",
        "\n",
        "\n",
        "\n",
        "</font>"
      ],
      "metadata": {
        "id": "uxwCQiWQYiS9"
      }
    },
    {
      "cell_type": "markdown",
      "source": [
        "##JSXとReact\n",
        "<br>JSXはReactに不可欠な要素であり、これによりコンポーネントのマークアップとロジックを1つのファイルに記述することができるようになる。\n",
        "<br>サーバサイド Web アプリケーションフレームワークは、そのほとんどがアーキテクチャに MVC のパターンを採用しているが、Reactではロジックとデザインを混在させる。MVCとはアプリケーションを Model、View、Controller の 3 つの要素に分割して構築する手法である。Webアプリケーションにおいては、ひとつの URLリクエストに対してそれを受けたControllerが起点となりModelを操作して必要なデータの取得・加工を行って、最後にViewでそのデータをテンプレートへ埋め込んでページを出力するというフローになる。\n",
        "<br>ソフトウェア工学において、アーキテクチャやデザインパターンというものは関心の分離を行うためにあるものである　。ではMVCにおいてはどんな関心によって要素を区分しているかと考えれば、アプリケーション全体で技術的な役割によってその3つに区分している。この技術的な役割によって関心を分離するというのは一時代を築いた考え方だが、フロントエンド開発ではその歴史の中で、MVCパターンはうまく機能しないという見方が開発者の間では主流である。\n",
        "<br>Reactにおいては、関心の分離の単位がMVCのように技術的な役割ではない。アプリケーションにおけるひとつひとつの機能こそがその単位になっている。それぞれの機能単位で分割された独立性の高いパーツを組み合わせることでアプリケーションを構築しようというのがReactの開発思想であり、そのパーツに相当する概念こそがコンポーネントというわけである。独立した機能単位のパーツとして分割するためには、そのパーツの中にUIデザインとロジックを閉じ込める必要があるのだ。\n",
        "<br>"
      ],
      "metadata": {
        "id": "j5UqCW2_Z6ue"
      }
    },
    {
      "cell_type": "markdown",
      "source": [
        "<font color=\"red\">\n",
        "「ソフトウェア工学において、アーキテクチャやデザインパターンというものは関心の分離を行うためにあるものである 」   は　そう書いてあるけど、必ずしもそれだけではない。\n",
        "</font>"
      ],
      "metadata": {
        "id": "hGFJJKOna4et"
      }
    },
    {
      "cell_type": "markdown",
      "source": [
        "<br>以下は、ReactコンポーネントのJSXコードの簡単な例\n",
        "![jsx1](https://drive.google.com/uc?id=1W0Z4a0XCBSHrr2U7HMvyA53sHrfW5g9c)\n",
        "\n",
        "<br>この例では、Greetという名前の関数コンポーネントがあり、h1要素を挨拶のメッセージとしてレンダリングしている。Reactコンパイラは、このコードをブラウザで実行できる最適化されたJavaScriptコードに変換し、コンポーネントを画面上に表示できるようにする。\n",
        "<br>"
      ],
      "metadata": {
        "id": "CgDwxeTsbkZU"
      }
    },
    {
      "cell_type": "markdown",
      "source": [
        "<font color=\"red\">\n",
        "この例はどこからとって来たんだろう？　この本からではないなら出典を記述すべき。また　本では、TypeScriptの表記を使って、書かれてる。また　exprt default の記述の振る舞いについて説明する必要がる。\n",
        "</font>"
      ],
      "metadata": {
        "id": "FKSsjmk2cc2k"
      }
    },
    {
      "cell_type": "markdown",
      "source": [
        "<br>以下は、ReactコンパイラがGreetコンポーネントを変換した結果。\n",
        "![js1](https://drive.google.com/uc?id=1HR-SgQUPO00zfZ3g0Likio9Q5B6xhnVR)\n",
        "\n",
        "<br>このコードでは、JSXコードは、元のJSXコードと同じ構造とコンテンツを作成するReact.createElement に変換されている。ReactがJSXコードをコンパイルする際に、上記のような変換が舞台裏で起こっている。これにより、ブラウザによる実行が可能になる。ただし、変換されたコードは、元のJSXコードよりも可読性が低くなる可能性がある。\n",
        "<br>Reactバージョン17では、新しいJSX変換機能が導入され、Reactパッケージの新しいエントリポイントから特別な関数を自動的にインポートすることで、ファイルの先頭でReactをインポートしなくてもJSXを使用できるようになった。"
      ],
      "metadata": {
        "id": "4dD1xvSOcXD9"
      }
    },
    {
      "cell_type": "markdown",
      "source": [
        "<font color=\"red\">\n",
        "この例自体は　Sugar Syntaxであることの例でわかりやすい例でよいけど、他に本出てくるもっと複雑ば例についても　説明すべき。\n",
        "\n",
        "</font>"
      ],
      "metadata": {
        "id": "u3KxnQSZdisF"
      }
    },
    {
      "cell_type": "markdown",
      "source": [
        "##JSXでJavaScriptの式を使う\n",
        "<br>JSXでは、JavaScriptの式をマークアップ内に直接埋め込んで、コンテンツを動的に生成することができる。これにより、JavaScriptコードを使用して、JSXコンポーネント内で値の計算、操作、および条件付きでコンテンツのレンダリングを行うことができる。\n",
        "<br>\n",
        "<br>以下の例では、JSX内で2つのJavaScriptの式を使用している。<br>\n"
      ],
      "metadata": {
        "id": "_0gy0FW9nZ-D"
      }
    },
    {
      "cell_type": "markdown",
      "source": [
        "![jsx1](https://drive.google.com/uc?id=15lp3_zQY3i1GZ30AJEshEzgAaFtf0G6J)\n"
      ],
      "metadata": {
        "id": "hM54EGqTtOL9"
      }
    },
    {
      "cell_type": "markdown",
      "source": [
        "\n",
        "\n",
        "この例では\n",
        "~~~\n",
        "{name}, {age}, {age + 1}, {age >= 18 && <p>You are an adult.</p>}\n",
        "~~~\n",
        "のような JavaScriptの式を使用して、nameとageの変数の値に基づきコンテンツを動的にレンダリングしている。\n",
        "<br>\n",
        "<br>"
      ],
      "metadata": {
        "id": "NNKA9ZQbqXaM"
      }
    },
    {
      "cell_type": "markdown",
      "source": [
        "<font color=\"red\">\n",
        "こんな記述はこの本にはなかったし、この記述は。どこからでしょう？　　またSugar Syntax　として　JSXがあるのに記述に整合性が取れない。\n",
        "\n",
        "</font>"
      ],
      "metadata": {
        "id": "Bg1PH5cCnrhE"
      }
    },
    {
      "cell_type": "markdown",
      "source": [
        "##JSXでCSSを使う\n",
        "<br>CSSは、インラインスタイル、個別のCSSファイル、CSS in JSライブラリなど、さまざまな方法でJSXコンポーネントに適用することができる。インラインスタイルは、JavaScriptオブジェクトを使用してJSXマークアップ内で直接定義され、外部CSSファイルまたはCSS in JSライブラリでは、コンポーネントの外部およびモジュールに基づいたスタイル設定が可能になる。\n",
        "<br>\n",
        "<br>以下の例では、JavaScriptオブジェクトを使用して定義されたインラインスタイルを、JSXのstyle属性を使用して要素に適用している。"
      ],
      "metadata": {
        "id": "1n911TQfnmcE"
      }
    },
    {
      "cell_type": "markdown",
      "source": [
        "![jsx例2](https://drive.google.com/uc?id=1uJtwe4SqczqI1xYMcZnAITNZu1oWyPGU)\n",
        "<br>\n",
        "<br>この例では、backgroundColor、color、padding などのCSSプロパティをstylesオブジェクトのキーと値のペアとして設定し、その値をCSS値を表す文字列としている。\n",
        "<br>\n",
        "<br>"
      ],
      "metadata": {
        "id": "4QmPbEhwuj09"
      }
    },
    {
      "cell_type": "markdown",
      "source": [
        "## 重要なJSXのルール\n",
        "###1.常に1つのルート要素を返す\n",
        "<br>JSXでは、常に1つのルート要素を返さなければならない。つまり、JSXのコードはすべて、一番外側にある1つの要素に収めなければいけない。例えば、以下は有効なJSX。\n",
        "![jsx例3](https://drive.google.com/uc?id=11OADQMwbWQXZ5r9Owy-Yam04MUASbtzN)\n",
        "<br>\n",
        "<br>しかし、以下は1つの要素ではなく2つの要素を返しているため、有効ではない。\n"
      ],
      "metadata": {
        "id": "UQdXLBVGuq4k"
      }
    },
    {
      "cell_type": "markdown",
      "source": [
        "![jsx例4](https://drive.google.com/uc?id=10dwiXuvTPt4hEmDC7mQh07y1Xd4hS5vm)"
      ],
      "metadata": {
        "id": "gDBDNqSc2bZe"
      }
    },
    {
      "cell_type": "markdown",
      "source": [
        "\n",
        "###2. classの代わりにclassNameを使う\n",
        "<br>HTMLでは、要素のCSSクラスを指定するために、class属性を使用する。しかし、JSXでは、代わりにclassName属性を使用する必要がある。例えば、以下のようになる。\n",
        "![jsx例5](https://drive.google.com/uc?id=1QzdheoIBP_3w4YdZz2eJ5GjWwDLgSAKp)\n",
        "<br>\n",
        "<br>classの代わりにclassNameを使用することが重要。これで命名の衝突を避けることができる。\n",
        "###3. JavaScriptの式には中括弧を使用する\n",
        "<br>JSXコードの中にJavaScriptの式を含める必要がある場合、中括弧{}で囲む必要がある。これは、動的なデータの表示から、コンポーネントの条件付きレンダリングまで、あらゆる用途に使用できる。以下はその例。\n",
        "![jsx例6](https://drive.google.com/uc?id=1ODn5h8VSjC6nQkRMA288ZtxtzbMDGHvD)\n",
        "<br>\n",
        "<br>中括弧の中では、次のような計算を実行することができる。\n",
        "![jsx例7](https://drive.google.com/uc?id=131ClTrMEZR7qun9vWUT5nlEXgdfqgeT8)\n",
        "###4. ほとんどのものにcamelCaseを使用する\n",
        "<br>JSXでは、属性、イベントハンドラ、変数名など、ほとんどのものにcamelCaseを使用する。この規則は、JavaScriptの命名規則と一致しており、可読性を維持するのに役立つ。\n",
        "<br>例えば、onclickの代わりにonClickを、classの代わりにclassNameを使用する。\n",
        "![jsx例8](https://drive.google.com/uc?id=1Ph6wwa4BKB40UtHI5XxfuAXoFuow26yt)\n",
        "###5.タグを常に閉じる\n",
        "<br>JSXでは、たとえタグに中身がなくても、常に閉じる必要がある。例えば、以下のようになる。\n",
        "![jsx例9](https://drive.google.com/uc?id=18avmtgkEol4Ritb_Pc8kRfjGbjh2pPOK)\n",
        "###6. 空の要素はタグ単体で完結\n",
        "<br>本質的に中身を持たない要素であれば、開始/終了タグの代わりにタグ単体で完結することができる。例えば、以下のようになる。\n",
        "![jsx例10](https://drive.google.com/uc?id=1y9aPB4gcaXKTehQ0abQ0VmmJ9FeGVFH4)\n",
        "\n",
        "\n",
        "\n",
        "\n",
        "\n"
      ],
      "metadata": {
        "id": "6xqbuTyr7Uvi"
      }
    }
  ]
}