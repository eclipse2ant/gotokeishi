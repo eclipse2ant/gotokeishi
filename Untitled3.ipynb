{
  "nbformat": 4,
  "nbformat_minor": 0,
  "metadata": {
    "colab": {
      "provenance": [],
      "include_colab_link": true
    },
    "kernelspec": {
      "name": "python3",
      "display_name": "Python 3"
    },
    "language_info": {
      "name": "python"
    }
  },
  "cells": [
    {
      "cell_type": "markdown",
      "metadata": {
        "id": "view-in-github",
        "colab_type": "text"
      },
      "source": [
        "<a href=\"https://colab.research.google.com/github/keishi-goto/gotokeishi/blob/main/Untitled3.ipynb\" target=\"_parent\"><img src=\"https://colab.research.google.com/assets/colab-badge.svg\" alt=\"Open In Colab\"/></a>"
      ]
    },
    {
      "cell_type": "code",
      "execution_count": null,
      "metadata": {
        "id": "tiFtw1WjD2AD"
      },
      "outputs": [],
      "source": []
    },
    {
      "cell_type": "markdown",
      "source": [],
      "metadata": {
        "id": "Oh9V8i5LP81G"
      }
    },
    {
      "cell_type": "markdown",
      "source": [
        "#**VBAを用いて行ったことについて**\n",
        "##作成したexelファイルの主な役割\n",
        "今回私が作成したファイルは、アルバイトでの個別指導の予定表作成を簡単にするためのものです。主に、4つのworksheetから成り立っており、worksheetの名前はそれぞれ「登録内容」「カレンダー」「生徒用予定表」「講師用予定表」「基本情報」となっております。\n",
        "<br>各worksheetの具体的な内容は省略しますが、「基本情報」には、生徒や講師のリスト、時間割、コースなどの情報を書き込んでいます。今回はその情報をもとに、個別指導の予約を簡単にする機構を作成しました。\n",
        "\n",
        "#予約を行う\n",
        "まずはUserForm1、実際に予約情報を登録する機構を説明します。\n",
        "<br>このUserFormでは、リストボックスに基本情報から**生徒名**のリスト、及び**日付の一覧**を表示させます。ここで名前と日付を選択すると、その**日付に対応する時間割**をリストボックスに表示します。（「基本情報」では時間割を数パターン用意しており、曜日ごとに選択する時間割を設定してあります。）\n",
        "![時間割表示例](https://drive.google.com/uc?id=1JrxbaC25fDI-u13eIqVbRsaf82v4I_yn)\n",
        "（上は日付選択前）\n",
        "![時間割表示後例](https://drive.google.com/uc?id=1jwu2Pr9X0wHf0cNvofA8R2VbxROZ05yV)\n",
        "（上は日付選択後。対応する時間割がリストボックス内に表示された。）\n",
        "<br>次に**コース**をリストボックスから選択すると、**対応する講師**をリストボックスに表示します。「基本情報」に講師のシフトを曜日ごとで設定していますので、先に選択した日時に対応する講師をリストボックスに表示します。\n",
        "![シフト情報例](https://drive.google.com/uc?id=1P_37sD0U4iuapwC3wSfdS8RXVN6GgSLd)\n",
        "（上の画像のように「基本情報」に講師のシフトが登録されている。）\n",
        "<br>今回、画像の例では7/24の⑥16時と選択したため、講師A、B、C、D、Eが表示されます。\n",
        "<br>（下の画像は、その表示例）\n",
        "![講師表示](https://drive.google.com/uc?id=1Ob1X_gYsx8boeFnw5SkXyY3h3cewkeDW)\n",
        "<br>写真内でも確認される通り、当日の予約状況も同時に表示します。\n",
        "<br>これは実務的な話になりますが、私の勤める塾では同時に個別の指導を行うことが出来るのは2ブースまで、講師1人に対し生徒2人ずつの最大４人となるので、予約がそれを越してしまわないように確認する必要があります。\n",
        "<br>そして講師を選択したのちに、登録ボタンを押すことで情報が「登録内容」に書き込まれます。\n",
        "![登録例](https://drive.google.com/uc?id=1ICzF1DiHAOh_YLBC8iIEKG3sqc6B5Hkl)\n",
        "（上は実際に登録されたデータ）\n",
        "<br>画像を確認すると、先ほどのUserFormで選択したリストボックスの内容が打ち込まれています。\n",
        "<br>（ちなみにUserFormでは同時に８件まで登録できる仕様です。これは、基本的な契約コマ数が月に8回であるからです。）\n",
        "\n",
        "##カレンダーに上書きする\n",
        "次は登録した情報をカレンダーに上書きするコードですが、これはほとんど関数での計算に頼っています。上に表示している画像で確認される通り、ブースの場所（テーブルの見出し上では「席割」）や同じ講師が同時に見る生徒の数（テーブルの見出し上では「重複数」」）はすべてexel関数での計算に頼っています。\n",
        "<br>（この処理はVBAで出来るのかもしれませんが、私には技術と発想が不足していました。）\n",
        "<br>あとは主に**席割**、**重複数**、**日付**のデータを利用してカレンダーに書き込みます。\n",
        "この作業を行う実際のコードを簡単に説明すると、\n",
        "<br>①カレンダーに打ち込まれた値をclearする\n",
        "<br>②「登録内容」のB2セルをselectし、値が入っていればその列に登録された各データを、B2セルに書き込まれた日付の情報が該当するカレンダーのセルにコピーする。\n",
        "<br>今回であればB2セルには7/24とあるので、カレンダーの7/24の場所に打ち込む。\n",
        "<br>（実際に値を上書きしたカレンダー(一部)が下画像）\n",
        "![カレンダー上書き例](https://drive.google.com/uc?id=1A7vKzohDombF7mDxSfSDQjsxcPLU0zLA)\n",
        "<br>③続いて「登録内容」のB2セルの一つ下のセルをselect。あとはその繰り返し。\n",
        "<br>と、なります。\n",
        "<br>※このコードはほとんどがexel関数の計算に頼っており、VBAのコードなどでも処理できないか今後は考えたい。\n",
        "##その他の機構\n",
        "###生徒用配布シートや、講師用配布シート\n",
        "その他の機構として、生徒用及び講師用の予定表を作成し、PDFで保存されるコードも書きました。\n",
        "<br>以下は塾生に配布した実際の予定表（※生徒情報など社外秘の情報にはモザイクをかけています。）\n",
        "![生徒用配布シート](https://drive.google.com/uc?id=1QJeLUSzGHZJk81xxikCc8OLIksLRfShl)\n",
        "<br>下は講師用\n",
        "![講師用配布シート](https://drive.google.com/uc?id=13OV7-CoP4REs3pOB11PrVJZxXZZiRI0u)\n",
        "この表の作成も基本はexel関数を用いました。\n",
        "コードを書いたのはPDFで保存する程度。\n",
        "\n",
        "###予約情報の削除\n",
        "登録した情報を削除するコードです。\n",
        "<br>（必要性はあまり感じませんが。)\n",
        "<br>表中の登録した情報を削除し、その分データを上に詰めます。\n",
        "<br>（予約情報を削除するUserForm↓）\n",
        "![予約取り消し前](https://drive.google.com/uc?id=1btoGvjsPh1vlvpzRpgjZ5HiT3MnhUNVr)\n",
        "（予約削除を実行↓　10番の情報が削除されている。）\n",
        "![予約取り消し後](https://drive.google.com/uc?id=1quk1ePWpQ1pWM1G-XpNoUwvxpu6nnU1C)\n",
        "\n",
        "##データの種類と保管場所について\n",
        "今回作成したファイルには、主に二種類の情報があります。\n",
        "<br>ここではそれらを「**基本情報**」と「**登録情報**」と分けて呼びます。\n",
        "###基本情報の保管場所\n",
        "まず「基本情報」について。「基本情報」に分類される情報は以下の通りです。\n",
        "<br>①**講師情報**（講師名、出勤可能曜日）　②**生徒情報**（生徒名、学年、登録名、契約コマ数)　③**各日付ごとの設定情報**（製作期間、営業日情報、時間割設定）　④**時間割リスト**　⑤**コースリスト**\n",
        "<br>これらのデータは、予約を行う前に予め設定しておくデータになります。上記のデータを一つのシート（基本情報登録シート）にまとめて保管してあります。\n",
        "![講師情報](https://drive.google.com/uc?id=1zAfjLd90pUysAg8_LXlx-1WGFANC7LxH)\n",
        "<br>（↑講師情報）\n",
        "<br>講師の名前と、出勤可能な曜日と時間帯。時間帯は1～7（曜日ごとの時間割と連動）で設定し、出勤可能な時間帯に〇をつけています。\n",
        "![生徒情報](https://drive.google.com/uc?id=1p0ZZUDuRITeEOiut_DMLhQXGpFTN30GE)\n",
        "<br>（↑生徒情報）\n",
        "![各日付ごとの設定](https://drive.google.com/uc?id=1PrV6_D7mLuWdguxQPSODQxgRUTykI1M4)\n",
        "<br>（↑各日付ごとの設定情報）\n",
        "<br>まずは製作期間（開始日時と終了日時）を選択します。すると、営業日設定のリストに日付が書き出されるので、開館か閉館かの設定と、曜日ごとの時間割を設定します。\n",
        "![時間割設定の例](https://drive.google.com/uc?id=19caEzN9FiwRAK1AqncZM0ssK9DQOpob0)\n",
        "<br>（↑時間割を曜日ごとに設定している。)\n",
        "<br>\n",
        "![時間割・コースリスト](https://drive.google.com/uc?id=1NYyLfyPm7nc8OaogcpZ5kPignr5qkdSz)\n",
        "<br>（↑時間割とコースのリスト）\n",
        "\n",
        "###登録情報の保管場所\n",
        "最初に説明した通り、ユーザーフォームにて予約を行うと登録情報はworksheet「登録内容」に保管されます。\n",
        "![登録情報](https://drive.google.com/uc?id=1JIWVPOtmIFAxhLg1-JLoPgO7QBaWN6V8)\n",
        "（↑登録内容には登録情報が保管されている。）\n",
        "###予約のプロセスをMVCモデルで考える\n",
        "個別指導の予約から生徒配布シートを表示するまでの過程をMVCにわけて考えました。（これには私自身の理解が浅く、適切かの確証がありませんが。。。）\n",
        "<br>①ユーザーが「予約情報の登録」をクリックしたとき、予約画面（予約用のユーザーフォーム）を表示する【View】\n",
        "<br>②予約用のユーザーフォームに基本情報登録シートから、日時や時間割などのデータを持ってくる【Controller】\n",
        "<br>（※しかしこれはControllerとViewが分けられていない？）\n",
        "<br>③ユーザーが入力した情報をDB(worksheet登録内容)に登録する【Model】\n",
        "<br>④【Model】から登録処理の結果を受け取り、「予約完了」のメッセージボックスを表示する。【View】\n",
        "<br>このように半ば無理やり、予約のプロセスをMVCで考えようとしてみましたが、正直vbaではcontrollerにあたる部分がどこかわかりませんでした。というより、一つのコード、例えば下記のようにuserformに生徒リストを表示する場合を見ると、\n",
        "<br>\n",
        "<br>Private Sub UserForm_Initialize()\n",
        "<br>Worksheets(\"基本情報登録シート\").Activate\n",
        "<br>Dim student\n",
        "<br>student = Worksheets(\"基本情報登録シート\").Cells(16, 5).End(xlDown).Row\n",
        "<br> With Me.生徒選択\n",
        "<br> .List = Worksheets(\"基本情報登録シート\").Range(Cells(16, 5), Cells(student, 5)).Value\n",
        "<br>.ListIndex = -1\n",
        "<br>End With\n",
        "<br>End Sub\n",
        "<br>\n",
        "<br>となるのですが、これはModel,Controller,Viewの区別がないように思われます。（私の理解が間違っているのでしょうが。。。）\n",
        "<br>vbaでMVCモデルに基づいたプログラムをすることはできるのでしょうか？\n"
      ],
      "metadata": {
        "id": "-PQFnK4gD6OD"
      }
    },
    {
      "cell_type": "markdown",
      "source": [
        "# **正規化について**\n",
        "この章からは、正規化についてまとめたい。\n",
        "<br>リレーショナルデータベースの設計において、データの重複をなくし、整合的にデータを取り扱えるように設計することをデータベースの正規化という。正規化を行っておくと、データを追加したり削除したりする場合にデータの不整合が起こるのを防ぎ、メンテナンス効率を高めることができる。\n",
        "<br>正規化には第1～第5正規形があるが、ここではデータベースを設計する場合に一般的に用いられる第1～第3正規形までを取り扱う。\n"
      ],
      "metadata": {
        "id": "fcbfmiVZbr_y"
      }
    }
  ]
}