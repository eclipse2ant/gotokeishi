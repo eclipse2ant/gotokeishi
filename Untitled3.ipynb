{
  "nbformat": 4,
  "nbformat_minor": 0,
  "metadata": {
    "colab": {
      "provenance": [],
      "authorship_tag": "ABX9TyNqX9do5Ll++HQf6Z98+c65",
      "include_colab_link": true
    },
    "kernelspec": {
      "name": "python3",
      "display_name": "Python 3"
    },
    "language_info": {
      "name": "python"
    }
  },
  "cells": [
    {
      "cell_type": "markdown",
      "metadata": {
        "id": "view-in-github",
        "colab_type": "text"
      },
      "source": [
        "<a href=\"https://colab.research.google.com/github/keishi-goto/gotokeishi/blob/main/Untitled3.ipynb\" target=\"_parent\"><img src=\"https://colab.research.google.com/assets/colab-badge.svg\" alt=\"Open In Colab\"/></a>"
      ]
    },
    {
      "cell_type": "code",
      "execution_count": null,
      "metadata": {
        "id": "tiFtw1WjD2AD"
      },
      "outputs": [],
      "source": []
    },
    {
      "cell_type": "markdown",
      "source": [],
      "metadata": {
        "id": "Oh9V8i5LP81G"
      }
    },
    {
      "cell_type": "markdown",
      "source": [
        "#**VBAを用いて行ったことについて**\n",
        "##作成したexelファイルの主な役割\n",
        "今回私が作成したファイルは、アルバイトでの個別指導の予定表作成を簡単にするためのものです。主に、4つのworksheetから成り立っており、worksheetの名前はそれぞれ「登録内容」「カレンダー」「生徒用予定表」「講師用予定表」「基本情報」となっております。\n",
        "<br>各worksheetの具体的な内容は省略しますが、「基本情報」には、生徒や講師のリスト、時間割、コースなどの情報を書き込んでいます。今回はその情報をもとに、個別指導の予約を簡単にする機構を作成しました。\n",
        "\n",
        "#予約を行う\n",
        "まずはUserForm1、実際に予約情報を登録する機構を説明します。\n",
        "<br>このUserFormでは、リストボックスに基本情報から**生徒名**のリスト、及び**日付の一覧**を表示させます。ここで名前と日付を選択すると、その**日付に対応する時間割**をリストボックスに表示します。（「基本情報」では時間割を数パターン用意しており、曜日ごとに選択する時間割を設定してあります。）\n",
        "![時間割表示例](https://drive.google.com/uc?id=1JrxbaC25fDI-u13eIqVbRsaf82v4I_yn)\n",
        "（上は日付選択前）\n",
        "![時間割表示後例](https://drive.google.com/uc?id=1jwu2Pr9X0wHf0cNvofA8R2VbxROZ05yV)\n",
        "（上は日付選択後。対応する時間割がリストボックス内に表示された。）\n",
        "<br>次に**コース**をリストボックスから選択すると、**対応する講師**をリストボックスに表示します。「基本情報」に講師のシフトを曜日ごとで設定していますので、先に選択した日時に対応する講師をリストボックスに表示します。\n",
        "![シフト情報例](https://drive.google.com/uc?id=1P_37sD0U4iuapwC3wSfdS8RXVN6GgSLd)\n",
        "（上の画像のように「基本情報」に講師のシフトが登録されている。）\n",
        "<br>今回、画像の例では7/24の⑥16時と選択したため、講師A、B、C、D、Eが表示されます。\n",
        "<br>（下の画像は、その表示例）\n",
        "![講師表示](https://drive.google.com/uc?id=1Ob1X_gYsx8boeFnw5SkXyY3h3cewkeDW)\n",
        "<br>写真内でも確認される通り、当日の予約状況も同時に表示します。\n",
        "<br>これは実務的な話になりますが、私の勤める塾では同時に個別の指導を行うことが出来るのは2ブースまで、講師1人に対し生徒2人ずつの最大４人となるので、予約がそれを越してしまわないように確認する必要があります。\n",
        "<br>そして講師を選択したのちに、登録ボタンを押すことで情報が「登録内容」に書き込まれます。\n",
        "![登録例](https://drive.google.com/uc?id=1ICzF1DiHAOh_YLBC8iIEKG3sqc6B5Hkl)\n",
        "（上は実際に登録されたデータ）\n",
        "<br>画像を確認すると、先ほどのUserFormで選択したリストボックスの内容が打ち込まれています。\n",
        "<br>（ちなみにUserFormでは同時に８件まで登録できる仕様です。これは、基本的な契約コマ数が月に8回であるからです。）\n",
        "\n",
        "##カレンダーに上書きする\n",
        "次は登録した情報をカレンダーに上書きするコードですが、これはほとんど関数での計算に頼っています。上に表示している画像で確認される通り、ブースの場所（テーブルの見出し上では「席割」）や同じ講師が同時に見る生徒の数（テーブルの見出し上では「重複数」」）はすべてexel関数での計算に頼っています。\n",
        "<br>（この処理はVBAで出来るのかもしれませんが、私には技術と発想が不足していました。）\n",
        "<br>\n",
        "あとは主に**席割**、**重複数**、**日付**のデータを利用してカレンダーに書き込みます。\n",
        "この作業を行う実際のコードを簡単に説明すると、\n",
        "<br>①カレンダーに打ち込まれた値をclearする\n",
        "<br>②「登録内容」のB2セルをselectし、値が入っていればその列に登録された各データを、B2セルに書き込まれた日付の情報が該当するカレンダーのセルにコピーする。\n",
        "<br>今回であればB2セルには7/24とあるので、カレンダーの7/24の場所に打ち込む。\n",
        "<br>（実際に値を上書きしたカレンダー(一部)が下画像）\n",
        "![カレンダー上書き例](https://drive.google.com/uc?id=1A7vKzohDombF7mDxSfSDQjsxcPLU0zLA)\n",
        "<br>③続いて「登録内容」のB2セルの一つ下のセルをselect。あとはその繰り返し。\n",
        "<br>と、なります。\n",
        "<br>※このコードはほとんどがexel関数の計算に頼っており、VBAのコードなどでも処理できないか今後は考えたい。\n",
        "##その他の機構\n",
        "###生徒用配布シートや、講師用配布シート\n",
        "その他の機構として、生徒用及び講師用の予定表を作成し、PDFで保存されるコードも書きました。\n",
        "<br>以下は塾生に配布した実際の予定表（※生徒情報など社外秘の情報にはモザイクをかけています。）\n",
        "![生徒用配布シート](https://drive.google.com/uc?id=1QJeLUSzGHZJk81xxikCc8OLIksLRfShl)\n",
        "<br>下は講師用\n",
        "![講師用配布シート](https://drive.google.com/uc?id=13OV7-CoP4REs3pOB11PrVJZxXZZiRI0u)\n",
        "この表の作成も基本はexel関数を用いました。\n",
        "コードを書いたのはPDFで保存する程度。\n",
        "\n",
        "###予約情報の削除\n",
        "登録した情報を削除するコードです。\n",
        "<br>（必要性はあまり感じませんが。)\n",
        "<br>表中の登録した情報を削除し、その分データを上に詰めます。\n",
        "<br>（予約情報を削除するUserForm↓）\n",
        "![予約取り消し前](https://drive.google.com/uc?id=1btoGvjsPh1vlvpzRpgjZ5HiT3MnhUNVr)\n",
        "（予約削除を実行↓　10番の情報が削除されている。）\n",
        "![予約取り消し後](https://drive.google.com/uc?id=1quk1ePWpQ1pWM1G-XpNoUwvxpu6nnU1C)"
      ],
      "metadata": {
        "id": "-PQFnK4gD6OD"
      }
    }
  ]
}